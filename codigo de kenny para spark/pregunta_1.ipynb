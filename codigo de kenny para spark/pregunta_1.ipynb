{
 "cells": [
  {
   "cell_type": "markdown",
   "metadata": {},
   "source": [
    "# Primera apoximación para resolver la pregunta 1"
   ]
  },
  {
   "cell_type": "code",
   "execution_count": 2,
   "metadata": {},
   "outputs": [],
   "source": [
    "from pyspark.sql import SparkSession\n",
    "from pyspark.sql.functions import col\n",
    "\n",
    "spark = SparkSession.builder \\\n",
    "    .remote(\"sc://localhost:15002\").getOrCreate()"
   ]
  },
  {
   "cell_type": "markdown",
   "metadata": {},
   "source": [
    "## Versión DF"
   ]
  },
  {
   "cell_type": "code",
   "execution_count": 3,
   "metadata": {},
   "outputs": [
    {
     "name": "stdout",
     "output_type": "stream",
     "text": [
      "+-----------+--------------------+--------------------+--------------------+--------------------+----------+--------------------+--------------------+----------+------+--------+-------------+--------------------+-----------------+----------------+--------------------+\n",
      "|   video_id|               title|         publishedAt|           channelId|        channelTitle|categoryId|       trending_date|                tags|view_count| likes|dislikes|comment_count|      thumbnail_link|comments_disabled|ratings_disabled|         description|\n",
      "+-----------+--------------------+--------------------+--------------------+--------------------+----------+--------------------+--------------------+----------+------+--------+-------------+--------------------+-----------------+----------------+--------------------+\n",
      "|s9FH4rDMvds|LEVEI UM FORA? FI...|2020-08-11T22:21:49Z|UCGfBwrCoi9ZJjKiU...|       Pietro Guedes|        22|2020-08-12T00:00:00Z|pietro|guedes|ing...|    263835| 85095|     487|         4500|https://i.ytimg.c...|            False|           False|Salve rapaziada, ...|\n",
      "|jbGRowa5tIk|ITZY “Not Shy” M/...|2020-08-11T15:00:13Z|UCaO6TYtlC8U5ttz6...|   JYP Entertainment|        10|2020-08-12T00:00:00Z|JYP Entertainment...|   6000070|714310|   15176|        31040|https://i.ytimg.c...|            False|           False|ITZY Not Shy M/V[...|\n",
      "|3EfkCrXKZNs|Oh Juliana PARÓDI...|2020-08-10T14:59:00Z|UCoXZmVma073v5G1c...|       As Irmãs Mota|        22|2020-08-12T00:00:00Z|OH JULIANA PARÓDI...|   2296748| 39761|    5484|            0|https://i.ytimg.c...|             True|           False|Se inscrevam meus...|\n",
      "|gBjox7vn3-g|Contos de Runeter...|2020-08-11T15:00:09Z|UC6Xqz2pm50gDCORY...|League of Legends BR|        20|2020-08-12T00:00:00Z|Riot|Riot Games|L...|    300510| 46222|     242|         2748|https://i.ytimg.c...|            False|           False|Você se unirá aos...|\n",
      "|npoUGx7UW7o|Entrevista com Th...|2020-08-11T20:04:02Z|UCEWOoncsrmirqnFq...|The Noite com Dan...|        23|2020-08-12T00:00:00Z|The Noite|The Noi...|    327235| 22059|    3972|         2751|https://i.ytimg.c...|            False|           False|Danilo Gentili re...|\n",
      "|Vu6PNpYKu2U|DICAS DA RODADA 2...|2020-08-11T17:14:20Z|UCJVbvkrBLp7L2pna...|Cartoleiros Gazet...|        17|2020-08-12T00:00:00Z|cartola|cartola f...|    117217| 14220|     106|          785|https://i.ytimg.c...|            False|           False|No vídeo, time pr...|\n",
      "|ly8jXKq_9AE|LIVE PLAYLIST DA ...|2020-08-12T03:31:08Z|UCg9nWuUISG69Hv2V...|      Tayara Andreza|        10|2020-08-12T00:00:00Z|              [None]|     93022|  7595|     166|          136|https://i.ytimg.c...|            False|           False|#playlistdatay #t...|\n",
      "|QAUqqcEU0Xc|PEDI ELA EM NAMOR...|2020-08-11T00:02:35Z|UCOPS25AxMB9te9_-...|               PEIXE|        24|2020-08-12T00:00:00Z|      peixe|peixinho|   1427499|225365|    2287|         9647|https://i.ytimg.c...|            False|           False|Neste video Esper...|\n",
      "|eA4FRvf6vdM|AO VIVO - Apresen...|2020-08-12T00:58:57Z|UCZD5qcen7lbLPFTj...|            Vasco TV|        17|2020-08-12T00:00:00Z|#Vasco|#VascoDaGa...|     97711| 17153|      65|          226|https://i.ytimg.c...|            False|           False|                NULL|\n",
      "|8f70QZQB4UA|MASTERCHEF BRASIL...|2020-08-12T08:02:01Z|UC2EWGw-KBjEReUbX...|   MasterChef Brasil|        24|2020-08-12T00:00:00Z|masterchef tempor...|    199577|  7700|     129|          874|https://i.ytimg.c...|            False|           False|Assista à Parte 2...|\n",
      "|oH8wiqTGKrM|DIA DE FAZER COMP...|2020-08-11T23:36:58Z|UCIu-mBi1wc4Dt-WP...|            PAMRIQUE|        24|2020-08-12T00:00:00Z|pam rodrigues|pam...|     41592| 18109|      88|          690|https://i.ytimg.c...|            False|           False|Meu canal princip...|\n",
      "|OxwD-3E6M-k|Kemilly Santos, A...|2020-08-11T15:00:14Z|UCwS58BcJEKW5huj_...|   KemillySantosVEVO|        10|2020-08-12T00:00:00Z|kemilly santos 20...|    117085| 15113|     153|          914|https://i.ytimg.c...|            False|           False|Vídeo Oficial de ...|\n",
      "|uD5dJXCa_1s|Isadora Pompeo e ...|2020-08-11T13:00:09Z|UCkskLrHR3ga1AG_Q...|      Musile Records|        10|2020-08-12T00:00:00Z|6rupruh@dedu|Isad...|    175034| 26722|     251|         1068|https://i.ytimg.c...|            False|           False|#IsadoraPompeo #J...|\n",
      "|8irga_AqRdw|Minicurso Gratuit...|2020-08-12T02:16:40Z|UCeTKpYNnUeJ3g_9p...|    Gordices da Deia|        27|2020-08-12T00:00:00Z|gordices da deia|...|     33204|  8445|      58|          206|https://i.ytimg.c...|            False|           False|Se você quiser se...|\n",
      "|XZpj2Lx4HnA|REENCONTREI MINHA...|2020-08-11T22:54:09Z|UCp8i4boXFm2UB3te...|        João Caetano|        24|2020-08-12T00:00:00Z|vlog|entretenimen...|   1007452|189397|    3742|        21822|https://i.ytimg.c...|            False|           False|- Na época da esc...|\n",
      "|NQzNn_wQ_Vk|ESTOU LOIRA, DESI...|2020-08-11T19:08:16Z|UCmCEDd1rbFlCqSaC...|      Thayna Thalita|        22|2020-08-12T00:00:00Z|ESTOU LOIRA|DESIS...|     81679| 19212|     360|         1672|https://i.ytimg.c...|            False|           False|SE VOCÊ GOSTOU DO...|\n",
      "|BTYfaXKDDHY|FREE FIRE AO VIVO...|2020-08-11T02:27:10Z|UCIVnGR9XPef8boJW...|         NFA CHANNEL|        20|2020-08-12T00:00:00Z|liga nfa|nfa|liga...|   1123945|129849|    1292|          746|https://i.ytimg.c...|            False|           False|A Liga NFA Season...|\n",
      "|7WLxd6b2ayI|     NÓS VOLTAMOS???|2020-08-11T15:54:23Z|UCvym4Rx1KHtIw9dI...|               Clone|        24|2020-08-12T00:00:00Z|Clone|nos voltamo...|    422511|117479|    1471|         8318|https://i.ytimg.c...|            False|           False|Resolvi a duvida ...|\n",
      "|NXt6tzwH1V8|A MELHOR NUBANK D...|2020-08-11T23:37:51Z|UCkPwI3gaSr65levr...|Dinheiro Com Você...|        22|2020-08-12T00:00:00Z|dinheiro com voce...|     58286| 10104|      79|          465|https://i.ytimg.c...|            False|           False|Agora o seu dinhe...|\n",
      "|4wvIs_ckfHg|CACHORRO QUENTE P...|2020-08-11T22:00:01Z|UCWNQesEGziYNY3A1...|             GO DEB!|        22|2020-08-12T00:00:00Z|Fique Em Casa|Com...|     48761|  6557|      82|          604|https://i.ytimg.c...|            False|           False|Vocês pediram e a...|\n",
      "+-----------+--------------------+--------------------+--------------------+--------------------+----------+--------------------+--------------------+----------+------+--------+-------------+--------------------+-----------------+----------------+--------------------+\n",
      "only showing top 20 rows\n",
      "\n"
     ]
    }
   ],
   "source": [
    "# Cargamos el dataset original sin modificar\n",
    "data_set_original = spark.read.option(\"inferSchema\", \"true\").option(\"header\", \"true\").csv(\"/user/hadoop2/datasets_csv/BR.csv\")\n",
    "\n",
    "# Como lee raro la descrición, por que tiene saltos de lineas lo que haremos sera quitar todos aquellas filas que tenga null todo lo que este despues de video_id\n",
    "data_set_original = data_set_original.dropna(subset=['title'])\n",
    "data_set_original.show()"
   ]
  },
  {
   "cell_type": "code",
   "execution_count": 4,
   "metadata": {},
   "outputs": [
    {
     "name": "stdout",
     "output_type": "stream",
     "text": [
      "+-----------+--------------------+--------------------+--------------------+--------------------+--------------------+--------------------+\n",
      "|   video_id|               title|       trending_date|   likesToViewsRatio|dislikesToViewsRatio|commentsToViewsRatio|likesToDislikesRatio|\n",
      "+-----------+--------------------+--------------------+--------------------+--------------------+--------------------+--------------------+\n",
      "|s9FH4rDMvds|LEVEI UM FORA? FI...|2020-08-12T00:00:00Z| 0.32253112740917617|0.001845850626338...|0.017056114617090227|  174.73305954825463|\n",
      "|jbGRowa5tIk|ITZY “Not Shy” M/...|2020-08-12T00:00:00Z| 0.11905027774675962|0.002529303824788711|0.005173272978481...|   47.06839746968898|\n",
      "|3EfkCrXKZNs|Oh Juliana PARÓDI...|2020-08-12T00:00:00Z|0.017311868781424867|0.002387723859996...|                 0.0|    7.25036469730124|\n",
      "|gBjox7vn3-g|Contos de Runeter...|2020-08-12T00:00:00Z| 0.15381185318292237|8.052976606435726E-4|0.009144454427473296|               191.0|\n",
      "|npoUGx7UW7o|Entrevista com Th...|2020-08-12T00:00:00Z| 0.06741027090622947|0.012138065915931976|0.008406802450838084|   5.553625377643504|\n",
      "|Vu6PNpYKu2U|DICAS DA RODADA 2...|2020-08-12T00:00:00Z| 0.12131346135799415|9.043056894477763E-4|0.006696980813363249|   134.1509433962264|\n",
      "|ly8jXKq_9AE|LIVE PLAYLIST DA ...|2020-08-12T00:00:00Z| 0.08164735223925523|0.001784524091075...|0.001462019737266...|   45.75301204819277|\n",
      "|QAUqqcEU0Xc|PEDI ELA EM NAMOR...|2020-08-12T00:00:00Z| 0.15787401602382908|0.001602102698495...|0.006757973210489...|   98.54175776125929|\n",
      "|eA4FRvf6vdM|AO VIVO - Apresen...|2020-08-12T00:00:00Z|  0.1755483006007512|6.652270471083092E-4|0.002312943271484275|  263.89230769230767|\n",
      "|8f70QZQB4UA|MASTERCHEF BRASIL...|2020-08-12T00:00:00Z| 0.03858160008417803|6.463670663453203E-4|0.004379262139424884|  59.689922480620154|\n",
      "|oH8wiqTGKrM|DIA DE FAZER COMP...|2020-08-12T00:00:00Z|  0.4353962300442393|0.002115791498365...|0.016589728793998847|   205.7840909090909|\n",
      "|OxwD-3E6M-k|Kemilly Santos, A...|2020-08-12T00:00:00Z| 0.12907716616133577|0.001306742964512...|0.007806294572319...|   98.77777777777777|\n",
      "|uD5dJXCa_1s|Isadora Pompeo e ...|2020-08-12T00:00:00Z| 0.15266748174640354|0.001434007107190603|0.006101671675217387|   106.4621513944223|\n",
      "|8irga_AqRdw|Minicurso Gratuit...|2020-08-12T00:00:00Z|  0.2543368268883267|0.001746777496687...|0.006204071798578485|  145.60344827586206|\n",
      "|XZpj2Lx4HnA|REENCONTREI MINHA...|2020-08-12T00:00:00Z| 0.18799605340998876|0.003714320880796306| 0.02166058531820871|   50.61384286477819|\n",
      "|NQzNn_wQ_Vk|ESTOU LOIRA, DESI...|2020-08-12T00:00:00Z| 0.23521345755947062|0.004407497643213066|0.020470377942922904|   53.36666666666667|\n",
      "|BTYfaXKDDHY|FREE FIRE AO VIVO...|2020-08-12T00:00:00Z| 0.11552967449474841|0.001149522441044713| 6.63733545680616E-4|  100.50232198142415|\n",
      "|7WLxd6b2ayI|     NÓS VOLTAMOS???|2020-08-12T00:00:00Z|  0.2780495655734407|0.003481566160407658|0.019687061401951665|   79.86335825968729|\n",
      "|NXt6tzwH1V8|A MELHOR NUBANK D...|2020-08-12T00:00:00Z|  0.1733520914113166|0.001355385512816...|0.007977902069107505|  127.89873417721519|\n",
      "|4wvIs_ckfHg|CACHORRO QUENTE P...|2020-08-12T00:00:00Z| 0.13447222165255018|0.001681671827895...|0.012386948585960091|   79.96341463414635|\n",
      "+-----------+--------------------+--------------------+--------------------+--------------------+--------------------+--------------------+\n",
      "only showing top 20 rows\n",
      "\n"
     ]
    }
   ],
   "source": [
    "# Calculamos el las metricas de cada video\n",
    "trending_metrics = data_set_original.select(\"video_id\", \"title\", \"trending_date\", \"likes\", \"dislikes\", \"comment_count\", \"view_count\")\n",
    "\n",
    "# Crea las nuevas columnas calculadas\n",
    "trending_metrics = trending_metrics \\\n",
    "    .withColumn(\"likesToViewsRatio\", col(\"likes\") / col(\"view_count\")) \\\n",
    "    .withColumn(\"dislikesToViewsRatio\", col(\"dislikes\") / col(\"view_count\")) \\\n",
    "    .withColumn(\"commentsToViewsRatio\", col(\"comment_count\") / col(\"view_count\")) \\\n",
    "    .withColumn(\"likesToDislikesRatio\", col(\"likes\") / col(\"dislikes\")).select(\n",
    "        \"video_id\",\n",
    "        \"title\",\n",
    "        \"trending_date\",\n",
    "        \"likesToViewsRatio\",\n",
    "        \"dislikesToViewsRatio\",\n",
    "        \"commentsToViewsRatio\",\n",
    "        \"likesToDislikesRatio\"\n",
    "    )\n",
    "\n",
    "# Muestra el nuevo DataFrame\n",
    "trending_metrics.show()"
   ]
  },
  {
   "cell_type": "code",
   "execution_count": 5,
   "metadata": {},
   "outputs": [
    {
     "name": "stdout",
     "output_type": "stream",
     "text": [
      "+-----------+--------------------+-------------------+--------------------+--------------------+----------+-------------------+--------------------+----------+------+--------+-------------+--------------------+-----------------+----------------+-------+\n",
      "|   video_id|               title|        publishedAt|           channelId|        channelTitle|categoryId|      trending_date|                tags|view_count| likes|dislikes|comment_count|      thumbnail_link|comments_disabled|ratings_disabled|ranking|\n",
      "+-----------+--------------------+-------------------+--------------------+--------------------+----------+-------------------+--------------------+----------+------+--------+-------------+--------------------+-----------------+----------------+-------+\n",
      "|s9FH4rDMvds|LEVEI UM FORA? FI...|2020-08-11 18:21:49|UCGfBwrCoi9ZJjKiU...|       Pietro Guedes|        22|2020-08-11 20:00:00|pietro|guedes|ing...|    263835| 85095|     487|         4500|https://i.ytimg.c...|            false|           false|      1|\n",
      "|jbGRowa5tIk|ITZY “Not Shy” M/...|2020-08-11 11:00:13|UCaO6TYtlC8U5ttz6...|   JYP Entertainment|        10|2020-08-11 20:00:00|JYP Entertainment...|   6000070|714310|   15176|        31040|https://i.ytimg.c...|            false|           false|      2|\n",
      "|3EfkCrXKZNs|Oh Juliana PARÓDI...|2020-08-10 10:59:00|UCoXZmVma073v5G1c...|       As Irmãs Mota|        22|2020-08-11 20:00:00|OH JULIANA PARÓDI...|   2296748| 39761|    5484|            0|https://i.ytimg.c...|             true|           false|      3|\n",
      "|gBjox7vn3-g|Contos de Runeter...|2020-08-11 11:00:09|UC6Xqz2pm50gDCORY...|League of Legends BR|        20|2020-08-11 20:00:00|Riot|Riot Games|L...|    300510| 46222|     242|         2748|https://i.ytimg.c...|            false|           false|      4|\n",
      "|npoUGx7UW7o|Entrevista com Th...|2020-08-11 16:04:02|UCEWOoncsrmirqnFq...|The Noite com Dan...|        23|2020-08-11 20:00:00|The Noite|The Noi...|    327235| 22059|    3972|         2751|https://i.ytimg.c...|            false|           false|      5|\n",
      "|Vu6PNpYKu2U|DICAS DA RODADA 2...|2020-08-11 13:14:20|UCJVbvkrBLp7L2pna...|Cartoleiros Gazet...|        17|2020-08-11 20:00:00|cartola|cartola f...|    117217| 14220|     106|          785|https://i.ytimg.c...|            false|           false|      6|\n",
      "|ly8jXKq_9AE|LIVE PLAYLIST DA ...|2020-08-11 23:31:08|UCg9nWuUISG69Hv2V...|      Tayara Andreza|        10|2020-08-11 20:00:00|              [None]|     93022|  7595|     166|          136|https://i.ytimg.c...|            false|           false|      7|\n",
      "|QAUqqcEU0Xc|PEDI ELA EM NAMOR...|2020-08-10 20:02:35|UCOPS25AxMB9te9_-...|               PEIXE|        24|2020-08-11 20:00:00|      peixe|peixinho|   1427499|225365|    2287|         9647|https://i.ytimg.c...|            false|           false|      8|\n",
      "|eA4FRvf6vdM|AO VIVO - Apresen...|2020-08-11 20:58:57|UCZD5qcen7lbLPFTj...|            Vasco TV|        17|2020-08-11 20:00:00|#Vasco|#VascoDaGa...|     97711| 17153|      65|          226|https://i.ytimg.c...|            false|           false|      9|\n",
      "|8f70QZQB4UA|MASTERCHEF BRASIL...|2020-08-12 04:02:01|UC2EWGw-KBjEReUbX...|   MasterChef Brasil|        24|2020-08-11 20:00:00|masterchef tempor...|    199577|  7700|     129|          874|https://i.ytimg.c...|            false|           false|     10|\n",
      "|oH8wiqTGKrM|DIA DE FAZER COMP...|2020-08-11 19:36:58|UCIu-mBi1wc4Dt-WP...|            PAMRIQUE|        24|2020-08-11 20:00:00|pam rodrigues|pam...|     41592| 18109|      88|          690|https://i.ytimg.c...|            false|           false|     11|\n",
      "|OxwD-3E6M-k|Kemilly Santos, A...|2020-08-11 11:00:14|UCwS58BcJEKW5huj_...|   KemillySantosVEVO|        10|2020-08-11 20:00:00|kemilly santos 20...|    117085| 15113|     153|          914|https://i.ytimg.c...|            false|           false|     12|\n",
      "|uD5dJXCa_1s|Isadora Pompeo e ...|2020-08-11 09:00:09|UCkskLrHR3ga1AG_Q...|      Musile Records|        10|2020-08-11 20:00:00|6rupruh@dedu|Isad...|    175034| 26722|     251|         1068|https://i.ytimg.c...|            false|           false|     13|\n",
      "|8irga_AqRdw|Minicurso Gratuit...|2020-08-11 22:16:40|UCeTKpYNnUeJ3g_9p...|    Gordices da Deia|        27|2020-08-11 20:00:00|gordices da deia|...|     33204|  8445|      58|          206|https://i.ytimg.c...|            false|           false|     14|\n",
      "|XZpj2Lx4HnA|REENCONTREI MINHA...|2020-08-11 18:54:09|UCp8i4boXFm2UB3te...|        João Caetano|        24|2020-08-11 20:00:00|vlog|entretenimen...|   1007452|189397|    3742|        21822|https://i.ytimg.c...|            false|           false|     15|\n",
      "|NQzNn_wQ_Vk|ESTOU LOIRA, DESI...|2020-08-11 15:08:16|UCmCEDd1rbFlCqSaC...|      Thayna Thalita|        22|2020-08-11 20:00:00|ESTOU LOIRA|DESIS...|     81679| 19212|     360|         1672|https://i.ytimg.c...|            false|           false|     16|\n",
      "|BTYfaXKDDHY|FREE FIRE AO VIVO...|2020-08-10 22:27:10|UCIVnGR9XPef8boJW...|         NFA CHANNEL|        20|2020-08-11 20:00:00|liga nfa|nfa|liga...|   1123945|129849|    1292|          746|https://i.ytimg.c...|            false|           false|     17|\n",
      "|7WLxd6b2ayI|     NÓS VOLTAMOS???|2020-08-11 11:54:23|UCvym4Rx1KHtIw9dI...|               Clone|        24|2020-08-11 20:00:00|Clone|nos voltamo...|    422511|117479|    1471|         8318|https://i.ytimg.c...|            false|           false|     18|\n",
      "|NXt6tzwH1V8|A MELHOR NUBANK D...|2020-08-11 19:37:51|UCkPwI3gaSr65levr...|Dinheiro Com Você...|        22|2020-08-11 20:00:00|dinheiro com voce...|     58286| 10104|      79|          465|https://i.ytimg.c...|            false|           false|     19|\n",
      "|4wvIs_ckfHg|CACHORRO QUENTE P...|2020-08-11 18:00:01|UCWNQesEGziYNY3A1...|             GO DEB!|        22|2020-08-11 20:00:00|Fique Em Casa|Com...|     48761|  6557|      82|          604|https://i.ytimg.c...|            false|           false|     20|\n",
      "+-----------+--------------------+-------------------+--------------------+--------------------+----------+-------------------+--------------------+----------+------+--------+-------------+--------------------+-----------------+----------------+-------+\n",
      "only showing top 20 rows\n",
      "\n"
     ]
    }
   ],
   "source": [
    "# Cargamos el dataset de videos rankeados \n",
    "columnas = data_set_original.columns[:-1] + [\"ranking\"]\n",
    "ranked_videos = spark.read.option(\"inferSchema\", \"true\").option(\"delimiter\", \"\\t\").csv(\"/user/hadoop2/BR_ranked/BR\").toDF(*columnas)\n",
    "ranked_videos.show()"
   ]
  },
  {
   "cell_type": "code",
   "execution_count": 6,
   "metadata": {},
   "outputs": [
    {
     "name": "stdout",
     "output_type": "stream",
     "text": [
      "+-----------+-----------------------+--------------------+-------------------+--------------------+--------------------+--------------------+-------+\n",
      "|   video_id|                  title|       trending_date|  likesToViewsRatio|dislikesToViewsRatio|commentsToViewsRatio|likesToDislikesRatio|ranking|\n",
      "+-----------+-----------------------+--------------------+-------------------+--------------------+--------------------+--------------------+-------+\n",
      "|CuyTC8FLICY|   Anitta - Girl Fro...|2021-04-30T00:00:00Z| 0.5985101756875228|0.006574267907390492| 0.13878193169892536|    91.0383002516075|      1|\n",
      "|oVPYa7QCmRg|[MV] eAeon(이이언) _...|2021-04-30T00:00:00Z| 0.4875012936880122|6.088734228767051E-4| 0.08327049705845588|   800.6611479028697|      9|\n",
      "|mrIaMSHhChQ|   CRIANDO PERSONAGE...|2020-10-07T00:00:00Z|0.48499609392950693|0.001424566885712...|0.050181517393502136|   340.4516129032258|     28|\n",
      "|gruvzNW87V8|     10 FATOS SOBRE MIM|2020-12-02T00:00:00Z|0.47845379552696626|8.338544923910778E-4|0.026087733404806576|   573.7857142857143|     24|\n",
      "|oxx7GpZ9rGc|   K TECH by JERSU |...|2024-03-14T00:00:00Z|0.45625031151871603|                 0.0| 0.05329462194088621|                NULL|     25|\n",
      "|NaUirQud2O4|   TOUR PELO MEU APA...|2021-05-31T00:00:00Z| 0.4513711430641901|0.001382585148174...| 0.01640032037835158|   326.4689655172414|      7|\n",
      "|gSAvmKNOGYw|   Bonanza e o Porta...|2020-09-16T00:00:00Z|0.45110253191539756|9.947656379526775E-4|0.020653229435588925|   453.4761904761905|     14|\n",
      "|lkFXFAWgvXY|   ZAYN - Nobody Is ...|2021-01-13T00:00:00Z|0.44831483475290446|8.399050738158184E-4| 0.06013494850649095|   533.7684563758389|     15|\n",
      "|oxx7GpZ9rGc|   K TECH by JERSU |...|2024-03-15T00:00:00Z|0.44319233033386596|                 0.0|  0.0501219409637541|                NULL|     42|\n",
      "|oxx7GpZ9rGc|   K TECH by JERSU |...|2024-03-16T00:00:00Z|0.43738712191783424|                 0.0|0.047822284747438264|                NULL|     69|\n",
      "|sbPlkRUHN2M|   Satisfatório - El...|2020-12-11T00:00:00Z|0.43573051504998805|0.005840168909472359|0.023908191473152467|   74.60923165137615|      4|\n",
      "|oH8wiqTGKrM|   DIA DE FAZER COMP...|2020-08-12T00:00:00Z| 0.4353962300442393|0.002115791498365...|0.016589728793998847|   205.7840909090909|     11|\n",
      "|cfNup58f2EI|   Segredo REVELADO ...|2022-02-04T00:00:00Z| 0.4335795428692764|                 0.0|0.002102133984499416|                NULL|     25|\n",
      "|psE5CiNiPBU|               Paradise|2020-10-05T00:00:00Z| 0.4335725208798965|0.001529231855075...| 0.04902952593812493|   283.5230769230769|     16|\n",
      "|oxx7GpZ9rGc|   K TECH by JERSU |...|2024-03-17T00:00:00Z|0.43155827344552067|                 0.0|0.046190242378252915|                NULL|    110|\n",
      "|WHhBKxZSwIs|   Brooklyn Nets x B...|2021-05-31T00:00:00Z| 0.4311483176420781|7.408826079067798E-4|                 0.0|   581.9387755102041|      5|\n",
      "|e25haRrP-AY|   MAIS COMPRINHAS D...|2021-02-05T00:00:00Z| 0.4276070390626788|0.001281493855694...|0.016682303942881987|  333.67857142857144|     14|\n",
      "|oxx7GpZ9rGc|   K TECH by JERSU |...|2024-03-18T00:00:00Z| 0.4273959714322371|                 0.0| 0.04499850318607535|                NULL|    118|\n",
      "|oxx7GpZ9rGc|   K TECH by JERSU |...|2024-03-19T00:00:00Z| 0.4247560561794963|                 0.0| 0.04416231471442641|                NULL|    145|\n",
      "|qfNeJ7zR2zg|   TOUR PELA MANSÃO ...|2021-03-04T00:00:00Z|0.42407157168817855|0.001164903778947...|0.012767345417268533|              364.04|     14|\n",
      "+-----------+-----------------------+--------------------+-------------------+--------------------+--------------------+--------------------+-------+\n",
      "only showing top 20 rows\n",
      "\n"
     ]
    }
   ],
   "source": [
    "# Hacemos un join entre los dos DataFrames, es necesario? No para nada, es trabajo extra por que \n",
    "# los datos que estan en ranked_videos son exactamente los mismos que hay en el data set original\n",
    "# sin el problema de las descripciones, pero lo hago para aja tener una excusa para probar los joins\n",
    "joined_df = ranked_videos.join(\n",
    "    trending_metrics,\n",
    "    (ranked_videos['video_id'] == trending_metrics['video_id']) & \n",
    "    (ranked_videos['trending_date'] == trending_metrics['trending_date']),\n",
    "    \"inner\"  # Tipo de join\n",
    ")\n",
    "\n",
    "# Selecciona las columnas de trending_metrics más la columna ranking de ranked_videos\n",
    "result_df = joined_df.select(\n",
    "    trending_metrics[\"video_id\"],\n",
    "    trending_metrics[\"title\"],\n",
    "    trending_metrics[\"trending_date\"],\n",
    "    trending_metrics[\"likesToViewsRatio\"],\n",
    "    trending_metrics[\"dislikesToViewsRatio\"],\n",
    "    trending_metrics[\"commentsToViewsRatio\"],\n",
    "    trending_metrics[\"likesToDislikesRatio\"],\n",
    "    ranked_videos[\"ranking\"]\n",
    ")\n",
    "\n",
    "result_df = result_df.orderBy(\n",
    "    col(\"likesToViewsRatio\").desc(),\n",
    "    col(\"dislikesToViewsRatio\").desc(),\n",
    "    col(\"commentsToViewsRatio\").desc(),\n",
    "    col(\"likesToDislikesRatio\").desc()\n",
    ")\n",
    "\n",
    "# Muestra el resultado\n",
    "result_df.show()"
   ]
  },
  {
   "cell_type": "markdown",
   "metadata": {},
   "source": [
    "## Versión SQL"
   ]
  },
  {
   "cell_type": "code",
   "execution_count": 14,
   "metadata": {},
   "outputs": [
    {
     "name": "stdout",
     "output_type": "stream",
     "text": [
      "+-----------+-----------------------+-------------------+-------------------+--------------------+--------------------+--------------------+\n",
      "|   video_id|                  title|      trending_date|  likesToViewsRatio|dislikesToViewsRatio|commentsToViewsRatio|likesToDislikesRatio|\n",
      "+-----------+-----------------------+-------------------+-------------------+--------------------+--------------------+--------------------+\n",
      "|CuyTC8FLICY|   Anitta - Girl Fro...|2021-04-29 20:00:00| 0.5985101756875228|0.006574267907390492| 0.13878193169892536|    91.0383002516075|\n",
      "|oVPYa7QCmRg|[MV] eAeon(이이언) _...|2021-04-29 20:00:00| 0.4875012936880122|6.088734228767051E-4| 0.08327049705845588|   800.6611479028697|\n",
      "|mrIaMSHhChQ|   CRIANDO PERSONAGE...|2020-10-06 20:00:00|0.48499609392950693|0.001424566885712...|0.050181517393502136|   340.4516129032258|\n",
      "|gruvzNW87V8|     10 FATOS SOBRE MIM|2020-12-01 20:00:00|0.47845379552696626|8.338544923910778E-4|0.026087733404806576|   573.7857142857143|\n",
      "|oxx7GpZ9rGc|   K TECH by JERSU |...|2024-03-13 20:00:00|0.45625031151871603|                 0.0| 0.05329462194088621|                NULL|\n",
      "|NaUirQud2O4|   TOUR PELO MEU APA...|2021-05-30 20:00:00| 0.4513711430641901|0.001382585148174...| 0.01640032037835158|   326.4689655172414|\n",
      "|gSAvmKNOGYw|   Bonanza e o Porta...|2020-09-15 20:00:00|0.45110253191539756|9.947656379526775E-4|0.020653229435588925|   453.4761904761905|\n",
      "|lkFXFAWgvXY|   ZAYN - Nobody Is ...|2021-01-12 20:00:00|0.44831483475290446|8.399050738158184E-4| 0.06013494850649095|   533.7684563758389|\n",
      "|oxx7GpZ9rGc|   K TECH by JERSU |...|2024-03-14 20:00:00|0.44319233033386596|                 0.0|  0.0501219409637541|                NULL|\n",
      "|oxx7GpZ9rGc|   K TECH by JERSU |...|2024-03-15 20:00:00|0.43738712191783424|                 0.0|0.047822284747438264|                NULL|\n",
      "|sbPlkRUHN2M|   Satisfatório - El...|2020-12-10 20:00:00|0.43573051504998805|0.005840168909472359|0.023908191473152467|   74.60923165137615|\n",
      "|oH8wiqTGKrM|   DIA DE FAZER COMP...|2020-08-11 20:00:00| 0.4353962300442393|0.002115791498365...|0.016589728793998847|   205.7840909090909|\n",
      "|cfNup58f2EI|   Segredo REVELADO ...|2022-02-03 20:00:00| 0.4335795428692764|                 0.0|0.002102133984499416|                NULL|\n",
      "|psE5CiNiPBU|               Paradise|2020-10-04 20:00:00| 0.4335725208798965|0.001529231855075...| 0.04902952593812493|   283.5230769230769|\n",
      "|oxx7GpZ9rGc|   K TECH by JERSU |...|2024-03-16 20:00:00|0.43155827344552067|                 0.0|0.046190242378252915|                NULL|\n",
      "|WHhBKxZSwIs|   Brooklyn Nets x B...|2021-05-30 20:00:00| 0.4311483176420781|7.408826079067798E-4|                 0.0|   581.9387755102041|\n",
      "|e25haRrP-AY|   MAIS COMPRINHAS D...|2021-02-04 20:00:00| 0.4276070390626788|0.001281493855694...|0.016682303942881987|  333.67857142857144|\n",
      "|oxx7GpZ9rGc|   K TECH by JERSU |...|2024-03-17 20:00:00| 0.4273959714322371|                 0.0| 0.04499850318607535|                NULL|\n",
      "|oxx7GpZ9rGc|   K TECH by JERSU |...|2024-03-18 20:00:00| 0.4247560561794963|                 0.0| 0.04416231471442641|                NULL|\n",
      "|qfNeJ7zR2zg|   TOUR PELA MANSÃO ...|2021-03-03 20:00:00|0.42407157168817855|0.001164903778947...|0.012767345417268533|              364.04|\n",
      "+-----------+-----------------------+-------------------+-------------------+--------------------+--------------------+--------------------+\n",
      "only showing top 20 rows\n",
      "\n"
     ]
    }
   ],
   "source": [
    "ranked_videos.createOrReplaceTempView(\"ranked_videos\")\n",
    "\n",
    "query = \"\"\"\n",
    "SELECT \n",
    "    video_id,\n",
    "    title,\n",
    "    trending_date,\n",
    "    (likes / view_count) AS likesToViewsRatio,\n",
    "    (dislikes / view_count) AS dislikesToViewsRatio,\n",
    "    (comment_count / view_count) AS commentsToViewsRatio,\n",
    "    (likes / dislikes) AS likesToDislikesRatio\n",
    "FROM ranked_videos\n",
    "ORDER BY likesToViewsRatio DESC, dislikesToViewsRatio DESC, commentsToViewsRatio DESC, likesToDislikesRatio DESC\n",
    "\"\"\"\n",
    "\n",
    "# Ejecuta la consulta SQL\n",
    "trending_metrics_sql = spark.sql(query)\n",
    "\n",
    "# Muestra el resultado\n",
    "trending_metrics_sql.show()"
   ]
  },
  {
   "cell_type": "markdown",
   "metadata": {},
   "source": [
    "# Segunda aproximación para resolver la pregunta 1"
   ]
  }
 ],
 "metadata": {
  "kernelspec": {
   "display_name": "ci5312_spark",
   "language": "python",
   "name": "python3"
  },
  "language_info": {
   "codemirror_mode": {
    "name": "ipython",
    "version": 3
   },
   "file_extension": ".py",
   "mimetype": "text/x-python",
   "name": "python",
   "nbconvert_exporter": "python",
   "pygments_lexer": "ipython3",
   "version": "3.12.3"
  }
 },
 "nbformat": 4,
 "nbformat_minor": 2
}

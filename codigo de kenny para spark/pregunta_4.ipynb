{
 "cells": [
  {
   "cell_type": "markdown",
   "metadata": {},
   "source": [
    "# Primera apoximación para resolver la pregunta 1"
   ]
  },
  {
   "cell_type": "code",
   "execution_count": 1,
   "metadata": {},
   "outputs": [],
   "source": [
    "from pyspark.sql import SparkSession\n",
    "from pyspark.sql.functions import col, count, countDistinct\n",
    "spark = SparkSession.builder \\\n",
    "    .remote(\"sc://localhost:15002\").getOrCreate()"
   ]
  },
  {
   "cell_type": "markdown",
   "metadata": {},
   "source": [
    "## Versión DF"
   ]
  },
  {
   "cell_type": "code",
   "execution_count": 2,
   "metadata": {},
   "outputs": [
    {
     "name": "stdout",
     "output_type": "stream",
     "text": [
      "+-----------+--------------------+-----------+--------------------+--------------------+------------+-------------+--------------------+----------+------+--------+-------------+--------------------+-----------------+----------------+----+\n",
      "|   video_id|               title|publishedAt|           channelId|        channelTitle|categoyoryId|trending_date|                tags|view_count| likes|dislikes|comment_count|      thumbnail_link|comments_disabled|ratings_disabled|rank|\n",
      "+-----------+--------------------+-----------+--------------------+--------------------+------------+-------------+--------------------+----------+------+--------+-------------+--------------------+-----------------+----------------+----+\n",
      "|s9FH4rDMvds|LEVEI UM FORA? FI...| 2020-08-11|UCGfBwrCoi9ZJjKiU...|       Pietro Guedes|          22|   2020-08-12|pietro|guedes|ing...|    263835| 85095|     487|         4500|https://i.ytimg.c...|            False|           False|   1|\n",
      "|jbGRowa5tIk|ITZY “Not Shy” M/...| 2020-08-11|UCaO6TYtlC8U5ttz6...|   JYP Entertainment|          10|   2020-08-12|JYP Entertainment...|   6000070|714310|   15176|        31040|https://i.ytimg.c...|            False|           False|   2|\n",
      "|3EfkCrXKZNs|Oh Juliana PARÓDI...| 2020-08-10|UCoXZmVma073v5G1c...|       As Irmãs Mota|          22|   2020-08-12|OH JULIANA PARÓDI...|   2296748| 39761|    5484|            0|https://i.ytimg.c...|             True|           False|   3|\n",
      "|gBjox7vn3-g|Contos de Runeter...| 2020-08-11|UC6Xqz2pm50gDCORY...|League of Legends BR|          20|   2020-08-12|Riot|Riot Games|L...|    300510| 46222|     242|         2748|https://i.ytimg.c...|            False|           False|   4|\n",
      "|npoUGx7UW7o|Entrevista com Th...| 2020-08-11|UCEWOoncsrmirqnFq...|The Noite com Dan...|          23|   2020-08-12|The Noite|The Noi...|    327235| 22059|    3972|         2751|https://i.ytimg.c...|            False|           False|   5|\n",
      "|Vu6PNpYKu2U|DICAS DA RODADA 2...| 2020-08-11|UCJVbvkrBLp7L2pna...|Cartoleiros Gazet...|          17|   2020-08-12|cartola|cartola f...|    117217| 14220|     106|          785|https://i.ytimg.c...|            False|           False|   6|\n",
      "|ly8jXKq_9AE|LIVE PLAYLIST DA ...| 2020-08-12|UCg9nWuUISG69Hv2V...|      Tayara Andreza|          10|   2020-08-12|              [None]|     93022|  7595|     166|          136|https://i.ytimg.c...|            False|           False|   7|\n",
      "|QAUqqcEU0Xc|PEDI ELA EM NAMOR...| 2020-08-11|UCOPS25AxMB9te9_-...|               PEIXE|          24|   2020-08-12|      peixe|peixinho|   1427499|225365|    2287|         9647|https://i.ytimg.c...|            False|           False|   8|\n",
      "|eA4FRvf6vdM|AO VIVO - Apresen...| 2020-08-12|UCZD5qcen7lbLPFTj...|            Vasco TV|          17|   2020-08-12|#Vasco|#VascoDaGa...|     97711| 17153|      65|          226|https://i.ytimg.c...|            False|           False|   9|\n",
      "|8f70QZQB4UA|MASTERCHEF BRASIL...| 2020-08-12|UC2EWGw-KBjEReUbX...|   MasterChef Brasil|          24|   2020-08-12|masterchef tempor...|    199577|  7700|     129|          874|https://i.ytimg.c...|            False|           False|  10|\n",
      "|oH8wiqTGKrM|DIA DE FAZER COMP...| 2020-08-11|UCIu-mBi1wc4Dt-WP...|            PAMRIQUE|          24|   2020-08-12|pam rodrigues|pam...|     41592| 18109|      88|          690|https://i.ytimg.c...|            False|           False|  11|\n",
      "|OxwD-3E6M-k|Kemilly Santos, A...| 2020-08-11|UCwS58BcJEKW5huj_...|   KemillySantosVEVO|          10|   2020-08-12|kemilly santos 20...|    117085| 15113|     153|          914|https://i.ytimg.c...|            False|           False|  12|\n",
      "|uD5dJXCa_1s|Isadora Pompeo e ...| 2020-08-11|UCkskLrHR3ga1AG_Q...|      Musile Records|          10|   2020-08-12|6rupruh@dedu|Isad...|    175034| 26722|     251|         1068|https://i.ytimg.c...|            False|           False|  13|\n",
      "|8irga_AqRdw|Minicurso Gratuit...| 2020-08-12|UCeTKpYNnUeJ3g_9p...|    Gordices da Deia|          27|   2020-08-12|gordices da deia|...|     33204|  8445|      58|          206|https://i.ytimg.c...|            False|           False|  14|\n",
      "|XZpj2Lx4HnA|REENCONTREI MINHA...| 2020-08-11|UCp8i4boXFm2UB3te...|        João Caetano|          24|   2020-08-12|vlog|entretenimen...|   1007452|189397|    3742|        21822|https://i.ytimg.c...|            False|           False|  15|\n",
      "|NQzNn_wQ_Vk|ESTOU LOIRA, DESI...| 2020-08-11|UCmCEDd1rbFlCqSaC...|      Thayna Thalita|          22|   2020-08-12|ESTOU LOIRA|DESIS...|     81679| 19212|     360|         1672|https://i.ytimg.c...|            False|           False|  16|\n",
      "|BTYfaXKDDHY|FREE FIRE AO VIVO...| 2020-08-11|UCIVnGR9XPef8boJW...|         NFA CHANNEL|          20|   2020-08-12|liga nfa|nfa|liga...|   1123945|129849|    1292|          746|https://i.ytimg.c...|            False|           False|  17|\n",
      "|7WLxd6b2ayI|     NÓS VOLTAMOS???| 2020-08-11|UCvym4Rx1KHtIw9dI...|               Clone|          24|   2020-08-12|Clone|nos voltamo...|    422511|117479|    1471|         8318|https://i.ytimg.c...|            False|           False|  18|\n",
      "|NXt6tzwH1V8|A MELHOR NUBANK D...| 2020-08-11|UCkPwI3gaSr65levr...|Dinheiro Com Você...|          22|   2020-08-12|dinheiro com voce...|     58286| 10104|      79|          465|https://i.ytimg.c...|            False|           False|  19|\n",
      "|4wvIs_ckfHg|CACHORRO QUENTE P...| 2020-08-11|UCWNQesEGziYNY3A1...|             GO DEB!|          22|   2020-08-12|Fique Em Casa|Com...|     48761|  6557|      82|          604|https://i.ytimg.c...|            False|           False|  20|\n",
      "+-----------+--------------------+-----------+--------------------+--------------------+------------+-------------+--------------------+----------+------+--------+-------------+--------------------+-----------------+----------------+----+\n",
      "only showing top 20 rows\n",
      "\n"
     ]
    }
   ],
   "source": [
    "from pyspark.sql.types import StructType, StructField, StringType, IntegerType, BooleanType, DateType\n",
    "\n",
    "schema = StructType([\n",
    "    StructField(\"video_id\", StringType(), True),\n",
    "    StructField(\"title\", StringType(), True),\n",
    "    StructField(\"publishedAt\", DateType(), True),\n",
    "    StructField(\"channelId\", StringType(), True),\n",
    "    StructField(\"channelTitle\", StringType(), True),\n",
    "    StructField(\"categoyoryId\", StringType(), True),\n",
    "    StructField(\"trending_date\", DateType(), True),\n",
    "    StructField(\"tags\", StringType(), True),\n",
    "    StructField(\"view_count\", IntegerType(), True),\n",
    "    StructField(\"likes\", IntegerType(), True),\n",
    "    StructField(\"dislikes\", IntegerType(), True),\n",
    "    StructField(\"comment_count\", IntegerType(), True),\n",
    "    StructField(\"thumbnail_link\", StringType(), True),\n",
    "    StructField(\"comments_disabled\", StringType(), True),\n",
    "    StructField(\"ratings_disabled\", StringType(), True),\n",
    "    StructField(\"rank\", IntegerType(), True),\n",
    "])\n",
    "ranked_videos = spark.read.schema(schema).option(\"delimiter\", \"\\t\").csv(\"/user/hadoop2/BR_ranked/BR\")\n",
    "\n",
    "ranked_videos.dropna(subset=['title'])\n",
    "ranked_videos.show()"
   ]
  },
  {
   "cell_type": "code",
   "execution_count": 3,
   "metadata": {},
   "outputs": [
    {
     "name": "stdout",
     "output_type": "stream",
     "text": [
      "+--------------------+------------------+-----------------------+\n",
      "|           channelId|      channelTitle|distinct_category_count|\n",
      "+--------------------+------------------+-----------------------+\n",
      "|UCUN9lhwfMJRxMVue...|    YouTube Brasil|                      6|\n",
      "|UCuxfOdbKQy0tgGXc...|     Coisa de Nerd|                      5|\n",
      "|UC0otZdGYsA9KqVKA...|         Brancoala|                      5|\n",
      "|UCQ8a1n0D1PjI8fxR...|          Talokudo|                      4|\n",
      "|UC2bYhAHyaqfWlPXW...|         Enaldinho|                      4|\n",
      "|UCWKtHaeXVzUscYGc...|           BRKsEDU|                      4|\n",
      "|UCLXl1V6n82Dyg1Vh...|  Aviões e Músicas|                      4|\n",
      "|UColnnUYyz7CWjhzp...|        NOW UNITED|                      4|\n",
      "|UCzIJhiubPzLf3y6c...|   Thiago da Achah|                      4|\n",
      "|UCnYjd7cPNluC7Hi9...|      LOUD Coringa|                      4|\n",
      "|UCKe5eBtF9zbGmPuq...|       Warner Play|                      3|\n",
      "|UCL-ce0o3Uoj_v6x-...|      Conexão Teen|                      3|\n",
      "|UCxgO9TosyEhrE8sG...|CANAL DO FACINCANI|                      3|\n",
      "|UCt_mQUFwggqLNwXm...|  Spagnhol Plantas|                      3|\n",
      "|UC5ZTRH1zclthyc6b...|            Gaules|                      3|\n",
      "|UC8whlOg70m2Yr3qS...|            Kep1er|                      3|\n",
      "|UCrcBZDofBltcgGxp...|          Problems|                      3|\n",
      "|UCume61lDLhmneFra...|      Gabi Martins|                      3|\n",
      "|UCuiLR4p6wQ3xLEm1...|       Record News|                      3|\n",
      "|UCErDwZS8Zj_vDpJN...|    nildo sousa sw|                      3|\n",
      "+--------------------+------------------+-----------------------+\n",
      "only showing top 20 rows\n",
      "\n"
     ]
    }
   ],
   "source": [
    "# categorias por canal\n",
    "categorias_por_canal = ranked_videos.groupBy(\"channelId\", \"channelTitle\") \\\n",
    "    .agg(countDistinct(\"categoyoryId\").alias(\"distinct_category_count\")) \\\n",
    "    .orderBy(col(\"distinct_category_count\").desc())\n",
    "    \n",
    "categorias_por_canal.show()"
   ]
  },
  {
   "cell_type": "code",
   "execution_count": 4,
   "metadata": {},
   "outputs": [
    {
     "name": "stdout",
     "output_type": "stream",
     "text": [
      "+--------------------+-------------+----------------+\n",
      "|           channelId|trending_date|top_videos_count|\n",
      "+--------------------+-------------+----------------+\n",
      "|UC-8Q-hLdECwQmaWN...|   2020-08-15|               1|\n",
      "|UCdkhkda5VQPbKSzx...|   2020-08-19|               1|\n",
      "|UCgSvw7asvNq7wJWK...|   2020-08-24|               1|\n",
      "|UCz2A8OXLR2xwYE63...|   2020-08-27|               1|\n",
      "|UC1H-sZk-cj-tDpfT...|   2020-08-31|               1|\n",
      "|UCY1zV0j71X2H1H1I...|   2020-09-08|               1|\n",
      "|UC32z4mtyiq02Ge-X...|   2020-09-24|               1|\n",
      "|UC0LlPl_mWhIFqVxc...|   2020-09-26|               1|\n",
      "|UCTv-XvfzLX3i4IGW...|   2020-09-28|               1|\n",
      "|UC9OMsuaqvGdF0MtK...|   2020-10-01|               1|\n",
      "|UCi_6SNdvEOq5i1X_...|   2020-10-01|               1|\n",
      "|UCfIXdjDQH9Fau7y9...|   2020-10-02|               1|\n",
      "|UCy-pRSIMMBsp-AZl...|   2020-10-13|               1|\n",
      "|UC_XGgRFoktKUXZVD...|   2020-10-17|               1|\n",
      "|UC9jMFcUztj-dAulU...|   2020-10-17|               1|\n",
      "|UC9mdw2mmn49ZuqGO...|   2020-10-24|               1|\n",
      "|UCdkhkda5VQPbKSzx...|   2020-10-29|               1|\n",
      "|UCQrMFHy4Tk-e2vu4...|   2020-10-31|               1|\n",
      "|UCu3t6lUb04wXARxE...|   2020-11-09|               1|\n",
      "|UCgCKagVhzGnZcuP9...|   2020-11-12|               1|\n",
      "+--------------------+-------------+----------------+\n",
      "only showing top 20 rows\n",
      "\n"
     ]
    }
   ],
   "source": [
    "# videos por canal\n",
    "top_videos_canal = ranked_videos.filter(col(\"rank\") <= 50) \\\n",
    ".groupBy(\"channelId\", \"trending_date\") \\\n",
    ".agg(count(\"*\").alias(\"top_videos_count\"))\n",
    "\n",
    "\n",
    "\n",
    "top_videos_canal.show()"
   ]
  },
  {
   "cell_type": "code",
   "execution_count": 5,
   "metadata": {},
   "outputs": [
    {
     "name": "stdout",
     "output_type": "stream",
     "text": [
      "+-------------+------------------------+-----------------+-----------------------+----------------+\n",
      "|trending_date|channelId               |channelTitle     |distinct_category_count|top_videos_count|\n",
      "+-------------+------------------------+-----------------+-----------------------+----------------+\n",
      "|2024-02-12   |UCqRraVICLr0asn90cAvkIZQ|Corinthians TV   |1                      |3               |\n",
      "|2023-11-05   |UCw5-xj3AKqEizC7MvHaIPqA|FOX Sports Brasil|2                      |3               |\n",
      "|2024-03-12   |UCw5-xj3AKqEizC7MvHaIPqA|ESPN Brasil      |1                      |3               |\n",
      "|2022-09-05   |UCw5-xj3AKqEizC7MvHaIPqA|ESPN Brasil      |1                      |3               |\n",
      "|2024-03-12   |UCw5-xj3AKqEizC7MvHaIPqA|FOX Sports Brasil|2                      |3               |\n",
      "|2022-10-07   |UCw4YGFtvDgOL09KrFpqj6kg|A Fazenda        |1                      |3               |\n",
      "|2022-09-02   |UCw5-xj3AKqEizC7MvHaIPqA|ESPN Brasil      |1                      |3               |\n",
      "|2022-10-26   |UCs-6sCz2LJm1PrWQN4ErsPw|TNT Sports Brasil|1                      |3               |\n",
      "|2022-09-02   |UCw5-xj3AKqEizC7MvHaIPqA|FOX Sports Brasil|2                      |3               |\n",
      "|2023-01-06   |UC2bYhAHyaqfWlPXWBVk4BcA|Enaldinho        |4                      |3               |\n",
      "|2023-10-26   |UC2EWGw-KBjEReUbXMJEiaCA|MasterChef Brasil|1                      |3               |\n",
      "|2023-04-18   |UCw5-xj3AKqEizC7MvHaIPqA|FOX Sports Brasil|2                      |3               |\n",
      "|2024-01-19   |UC3croy4Mmkr_CpssQihMytw|TVE Bahia        |2                      |3               |\n",
      "|2023-08-21   |UCgCKagVhzGnZcuP9bSMgMCg|ge               |1                      |3               |\n",
      "|2022-08-30   |UCgCKagVhzGnZcuP9bSMgMCg|ge               |1                      |3               |\n",
      "|2023-09-19   |UC2bYhAHyaqfWlPXWBVk4BcA|Enaldinho        |4                      |3               |\n",
      "|2022-10-10   |UCgCKagVhzGnZcuP9bSMgMCg|ge               |1                      |3               |\n",
      "|2023-04-25   |UCw5-xj3AKqEizC7MvHaIPqA|FOX Sports Brasil|2                      |3               |\n",
      "|2023-11-05   |UCw5-xj3AKqEizC7MvHaIPqA|ESPN Brasil      |1                      |3               |\n",
      "|2024-03-27   |UCgCKagVhzGnZcuP9bSMgMCg|ge               |1                      |3               |\n",
      "+-------------+------------------------+-----------------+-----------------------+----------------+\n",
      "only showing top 20 rows\n",
      "\n"
     ]
    }
   ],
   "source": [
    "resultado = categorias_por_canal.join(\n",
    "    top_videos_canal,\n",
    "    categorias_por_canal[\"channelId\"] == top_videos_canal[\"channelId\"]\n",
    ").select(\n",
    "    top_videos_canal[\"trending_date\"],\n",
    "    categorias_por_canal[\"channelId\"],\n",
    "    categorias_por_canal[\"channelTitle\"],\n",
    "    categorias_por_canal[\"distinct_category_count\"],\n",
    "    top_videos_canal[\"top_videos_count\"]\n",
    ").orderBy(col(\"top_videos_count\").desc())\n",
    "\n",
    "\n",
    "# Mostrar el resultado\n",
    "resultado.show(truncate=False)\n"
   ]
  },
  {
   "cell_type": "markdown",
   "metadata": {},
   "source": [
    "## Versión SQL"
   ]
  },
  {
   "cell_type": "code",
   "execution_count": 6,
   "metadata": {},
   "outputs": [
    {
     "name": "stdout",
     "output_type": "stream",
     "text": [
      "+--------------------+------------------+-----------------------+\n",
      "|           channelId|      channelTitle|distinct_category_count|\n",
      "+--------------------+------------------+-----------------------+\n",
      "|UCUN9lhwfMJRxMVue...|    YouTube Brasil|                      6|\n",
      "|UCuxfOdbKQy0tgGXc...|     Coisa de Nerd|                      5|\n",
      "|UC0otZdGYsA9KqVKA...|         Brancoala|                      5|\n",
      "|UCQ8a1n0D1PjI8fxR...|          Talokudo|                      4|\n",
      "|UC2bYhAHyaqfWlPXW...|         Enaldinho|                      4|\n",
      "|UCWKtHaeXVzUscYGc...|           BRKsEDU|                      4|\n",
      "|UCLXl1V6n82Dyg1Vh...|  Aviões e Músicas|                      4|\n",
      "|UColnnUYyz7CWjhzp...|        NOW UNITED|                      4|\n",
      "|UCzIJhiubPzLf3y6c...|   Thiago da Achah|                      4|\n",
      "|UCnYjd7cPNluC7Hi9...|      LOUD Coringa|                      4|\n",
      "|UCKe5eBtF9zbGmPuq...|       Warner Play|                      3|\n",
      "|UCL-ce0o3Uoj_v6x-...|      Conexão Teen|                      3|\n",
      "|UCxgO9TosyEhrE8sG...|CANAL DO FACINCANI|                      3|\n",
      "|UCt_mQUFwggqLNwXm...|  Spagnhol Plantas|                      3|\n",
      "|UC5ZTRH1zclthyc6b...|            Gaules|                      3|\n",
      "|UCErDwZS8Zj_vDpJN...|    nildo sousa sw|                      3|\n",
      "|UCrcBZDofBltcgGxp...|          Problems|                      3|\n",
      "|UCume61lDLhmneFra...|      Gabi Martins|                      3|\n",
      "|UCuiLR4p6wQ3xLEm1...|       Record News|                      3|\n",
      "|UC8whlOg70m2Yr3qS...|            Kep1er|                      3|\n",
      "+--------------------+------------------+-----------------------+\n",
      "only showing top 20 rows\n",
      "\n"
     ]
    }
   ],
   "source": [
    "ranked_videos.createOrReplaceTempView(\"ranked_videos\")\n",
    "\n",
    "query = \"\"\"\n",
    "    SELECT \n",
    "        channelId,\n",
    "        channelTitle,\n",
    "        COUNT(DISTINCT categoyoryId) AS distinct_category_count\n",
    "    FROM \n",
    "        ranked_videos\n",
    "    GROUP BY \n",
    "        channelId,\n",
    "        channelTitle\n",
    "    ORDER BY \n",
    "        distinct_category_count DESC\n",
    "\"\"\"\n",
    "\n",
    "# categorias por canal\n",
    "categorias_por_canal = spark.sql(query)\n",
    "    \n",
    "categorias_por_canal.show()"
   ]
  },
  {
   "cell_type": "code",
   "execution_count": 7,
   "metadata": {},
   "outputs": [
    {
     "name": "stdout",
     "output_type": "stream",
     "text": [
      "+--------------------+-------------+----------------+\n",
      "|           channelId|trending_date|top_videos_count|\n",
      "+--------------------+-------------+----------------+\n",
      "|UC-8Q-hLdECwQmaWN...|   2020-08-15|               1|\n",
      "|UCdkhkda5VQPbKSzx...|   2020-08-19|               1|\n",
      "|UCgSvw7asvNq7wJWK...|   2020-08-24|               1|\n",
      "|UCz2A8OXLR2xwYE63...|   2020-08-27|               1|\n",
      "|UC1H-sZk-cj-tDpfT...|   2020-08-31|               1|\n",
      "|UCY1zV0j71X2H1H1I...|   2020-09-08|               1|\n",
      "|UC32z4mtyiq02Ge-X...|   2020-09-24|               1|\n",
      "|UC0LlPl_mWhIFqVxc...|   2020-09-26|               1|\n",
      "|UCTv-XvfzLX3i4IGW...|   2020-09-28|               1|\n",
      "|UC9OMsuaqvGdF0MtK...|   2020-10-01|               1|\n",
      "|UCi_6SNdvEOq5i1X_...|   2020-10-01|               1|\n",
      "|UCfIXdjDQH9Fau7y9...|   2020-10-02|               1|\n",
      "|UCy-pRSIMMBsp-AZl...|   2020-10-13|               1|\n",
      "|UC_XGgRFoktKUXZVD...|   2020-10-17|               1|\n",
      "|UC9jMFcUztj-dAulU...|   2020-10-17|               1|\n",
      "|UC9mdw2mmn49ZuqGO...|   2020-10-24|               1|\n",
      "|UCdkhkda5VQPbKSzx...|   2020-10-29|               1|\n",
      "|UCQrMFHy4Tk-e2vu4...|   2020-10-31|               1|\n",
      "|UCu3t6lUb04wXARxE...|   2020-11-09|               1|\n",
      "|UCgCKagVhzGnZcuP9...|   2020-11-12|               1|\n",
      "+--------------------+-------------+----------------+\n",
      "only showing top 20 rows\n",
      "\n"
     ]
    }
   ],
   "source": [
    "query = \"\"\"\n",
    "    SELECT \n",
    "        channelId,\n",
    "        trending_date,\n",
    "        COUNT(*) AS top_videos_count\n",
    "    FROM \n",
    "        ranked_videos\n",
    "    WHERE \n",
    "        rank <= 50\n",
    "    GROUP BY \n",
    "        channelId, trending_date\n",
    "\"\"\"\n",
    "\n",
    "# categorias por canal\n",
    "top_videos_canal = spark.sql(query)\n",
    "    \n",
    "top_videos_canal.show()"
   ]
  },
  {
   "cell_type": "code",
   "execution_count": 9,
   "metadata": {},
   "outputs": [
    {
     "name": "stdout",
     "output_type": "stream",
     "text": [
      "+-------------+------------------------+-------------------------------------------+-----------------------+----------------+\n",
      "|trending_date|channelId               |channelTitle                               |distinct_category_count|top_videos_count|\n",
      "+-------------+------------------------+-------------------------------------------+-----------------------+----------------+\n",
      "|2021-07-29   |UC-FQUIVQ-bZiefzBiQAa8Fw|BBC Radio 1                                |1                      |3               |\n",
      "|2020-10-30   |UCw4YGFtvDgOL09KrFpqj6kg|A Fazenda                                  |1                      |3               |\n",
      "|2021-10-15   |UCgCKagVhzGnZcuP9bSMgMCg|ge                                         |1                      |3               |\n",
      "|2021-09-07   |UCiQ7Ll2Gsb5eQhgQQhZ2lGQ|MFM - Esporte Interativo                   |1                      |3               |\n",
      "|2021-11-25   |UCs-6sCz2LJm1PrWQN4ErsPw|Esporte Interativo                         |1                      |3               |\n",
      "|2021-09-07   |UCiQ7Ll2Gsb5eQhgQQhZ2lGQ|MFM - TNT Sports                           |1                      |3               |\n",
      "|2021-11-25   |UCs-6sCz2LJm1PrWQN4ErsPw|TNT Sports Brasil                          |1                      |3               |\n",
      "|2022-01-05   |UCw5-xj3AKqEizC7MvHaIPqA|FOX Sports Brasil                          |2                      |3               |\n",
      "|2022-02-20   |UCw5-xj3AKqEizC7MvHaIPqA|ESPN Brasil                                |1                      |3               |\n",
      "|2022-04-20   |UCw5-xj3AKqEizC7MvHaIPqA|FOX Sports Brasil                          |2                      |3               |\n",
      "|2022-01-07   |UCw5-xj3AKqEizC7MvHaIPqA|FOX Sports Brasil                          |2                      |3               |\n",
      "|2022-05-12   |UCEfGV5hx2VrXl4jOUnG0MRQ|Geleia                                     |1                      |3               |\n",
      "|2021-09-07   |UCiQ7Ll2Gsb5eQhgQQhZ2lGQ|Melhor Futebol do Mundo - TNT Sports Brasil|1                      |3               |\n",
      "|2021-05-11   |UC0uRT_armQXqds_rjTjqJ0g|Santos Futebol Clube                       |2                      |3               |\n",
      "|2022-02-20   |UCw5-xj3AKqEizC7MvHaIPqA|FOX Sports Brasil                          |2                      |3               |\n",
      "|2020-10-22   |UCw4YGFtvDgOL09KrFpqj6kg|A Fazenda                                  |1                      |3               |\n",
      "|2020-08-31   |UCxAICW_LdkfFYwTqTHHE0vg|MTV                                        |2                      |3               |\n",
      "|2022-05-03   |UCgCKagVhzGnZcuP9bSMgMCg|ge                                         |1                      |3               |\n",
      "|2021-11-06   |UClRx3MMyYUyqOxyEqA5F2nQ|TravisScottVEVO                            |1                      |3               |\n",
      "|2021-04-27   |UC6IV24QPvsASJbzqDbmK8gw|Hora do Faro                               |1                      |3               |\n",
      "+-------------+------------------------+-------------------------------------------+-----------------------+----------------+\n",
      "only showing top 20 rows\n",
      "\n"
     ]
    }
   ],
   "source": [
    "categorias_por_canal.createOrReplaceTempView(\"categorias_por_canal\")\n",
    "top_videos_canal.createOrReplaceTempView(\"top_videos_canal\")\n",
    "\n",
    "query = \"\"\"\n",
    "SELECT \n",
    "    tvc.trending_date,\n",
    "    cpc.channelId,\n",
    "    cpc.channelTitle,\n",
    "    cpc.distinct_category_count,\n",
    "    tvc.top_videos_count\n",
    "FROM \n",
    "    categorias_por_canal cpc\n",
    "JOIN \n",
    "    top_videos_canal tvc\n",
    "ON \n",
    "    cpc.channelId = tvc.channelId\n",
    "ORDER BY \n",
    "    tvc.top_videos_count DESC\n",
    "\"\"\"\n",
    "\n",
    "# categorias por canal\n",
    "resultado = spark.sql(query)\n",
    "\n",
    "resultado.show(truncate=False)"
   ]
  },
  {
   "cell_type": "markdown",
   "metadata": {},
   "source": [
    "# Segunda aproximación para resolver la pregunta 1"
   ]
  }
 ],
 "metadata": {
  "kernelspec": {
   "display_name": "ci5312_spark",
   "language": "python",
   "name": "python3"
  },
  "language_info": {
   "codemirror_mode": {
    "name": "ipython",
    "version": 3
   },
   "file_extension": ".py",
   "mimetype": "text/x-python",
   "name": "python",
   "nbconvert_exporter": "python",
   "pygments_lexer": "ipython3",
   "version": "3.12.3"
  }
 },
 "nbformat": 4,
 "nbformat_minor": 2
}
